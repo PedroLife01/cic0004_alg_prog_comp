{
  "nbformat": 4,
  "nbformat_minor": 0,
  "metadata": {
    "colab": {
      "name": "cap_02_variaveis_expressoes.ipynb",
      "provenance": [],
      "collapsed_sections": [
        "xQOB8A2dMOuN",
        "ZVycocrUbRVW"
      ],
      "authorship_tag": "ABX9TyPLojvpJ/U+0BLMgSv6sYYL",
      "include_colab_link": true
    },
    "kernelspec": {
      "name": "python3",
      "display_name": "Python 3"
    },
    "language_info": {
      "name": "python"
    }
  },
  "cells": [
    {
      "cell_type": "markdown",
      "metadata": {
        "id": "view-in-github",
        "colab_type": "text"
      },
      "source": [
        "<a href=\"https://colab.research.google.com/github/viniciusrpb/cic0004_alg_prog_comp/blob/main/paginas/cap_02_variaveis_expressoes.ipynb\" target=\"_parent\"><img src=\"https://colab.research.google.com/assets/colab-badge.svg\" alt=\"Open In Colab\"/></a>"
      ]
    },
    {
      "cell_type": "markdown",
      "source": [
        "# Capítulo 2: Variáveis, expressões e instruções\n",
        "\n",
        "Atenção: este notebook não contém um programa inteiro, mas sim trechos de código-fonte que devem ser executados sequencialmente para o funcionamento esperado (geração das saídas corretas).\n",
        "\n",
        "## 2.1. Variáveis\n",
        "\n",
        "Uma variável é um espaço na memória cujo nome abstrai seu endereço associado (na memória). A seguir, mostramos como criamos duas variáveis já com valores atribuídos à elas:"
      ],
      "metadata": {
        "id": "YLklhKGBPPz2"
      }
    },
    {
      "cell_type": "code",
      "source": [
        "a = 5\n",
        "b = 2"
      ],
      "metadata": {
        "id": "_IUYzsgBPA12"
      },
      "execution_count": 1,
      "outputs": []
    },
    {
      "cell_type": "markdown",
      "source": [
        "Lembre-se que para criar uma variável em Python, sempre devemos atribuir um valor à ela, seja a partir:\n",
        "\n",
        "1.   de uma constante (valor inicial)\n",
        "2.   da entrada padrão (usuário digita tal valor, ou é fornecido pelo juíz automático - beecrowd, CodeRunner -)\n",
        "3.   de operações que utilizem outras variáveis e constantes.\n",
        "\n",
        "Estudaremos essas opções no decorrer da aula.\n",
        "\n",
        "Lembre-se que não é permitido nomear variáveis com símbolos especiais (exceto underline \"_\"). Também não é permitido que os primeiros caracteres do nome da variável contenham números. Apresentamos a seguir exemplos de nomes incorretos de variáveis:\n"
      ],
      "metadata": {
        "id": "zJfZ-oSgvmWM"
      }
    },
    {
      "cell_type": "code",
      "source": [
        "# variável cujo nome começa com número\n",
        "10cc = 5\n",
        "10cc"
      ],
      "metadata": {
        "colab": {
          "base_uri": "https://localhost:8080/",
          "height": 131
        },
        "id": "n2FdmFD5I8zQ",
        "outputId": "e880f36a-844a-471c-abed-6eb2d1b12402"
      },
      "execution_count": 2,
      "outputs": [
        {
          "output_type": "error",
          "ename": "SyntaxError",
          "evalue": "ignored",
          "traceback": [
            "\u001b[0;36m  File \u001b[0;32m\"<ipython-input-2-89c5e9031453>\"\u001b[0;36m, line \u001b[0;32m2\u001b[0m\n\u001b[0;31m    10cc = 5\u001b[0m\n\u001b[0m       ^\u001b[0m\n\u001b[0;31mSyntaxError\u001b[0m\u001b[0;31m:\u001b[0m invalid syntax\n"
          ]
        }
      ]
    },
    {
      "cell_type": "code",
      "source": [
        "# caractere especial no meio da variável\n",
        "em@il = \"cic@unb.br\""
      ],
      "metadata": {
        "colab": {
          "base_uri": "https://localhost:8080/",
          "height": 131
        },
        "id": "yklM3YKuwvFD",
        "outputId": "29df209d-1286-48e3-a523-0ce99e73ce51"
      },
      "execution_count": 3,
      "outputs": [
        {
          "output_type": "error",
          "ename": "SyntaxError",
          "evalue": "ignored",
          "traceback": [
            "\u001b[0;36m  File \u001b[0;32m\"<ipython-input-3-98ddd68bf2b6>\"\u001b[0;36m, line \u001b[0;32m2\u001b[0m\n\u001b[0;31m    em@il = \"cic@unb.br\"\u001b[0m\n\u001b[0m                        ^\u001b[0m\n\u001b[0;31mSyntaxError\u001b[0m\u001b[0;31m:\u001b[0m can't assign to operator\n"
          ]
        }
      ]
    },
    {
      "cell_type": "markdown",
      "source": [
        "Lembre-se que existe diferenciação de letras minúsculas e maiúsculas em nomes de variáveis (*case-sensitive*). Por exemplo, as variáveis abaixo *time* e *TIME* são distintas (**evite essa estratégia para nomear variáveis**):"
      ],
      "metadata": {
        "id": "Usq_FFKLy7H7"
      }
    },
    {
      "cell_type": "code",
      "source": [
        "time = \"Athletico Paranaense\"\n",
        "tIME = \"Gama\"\n",
        "\n",
        "time"
      ],
      "metadata": {
        "colab": {
          "base_uri": "https://localhost:8080/",
          "height": 35
        },
        "id": "l3NYvhZmy44B",
        "outputId": "2242b375-bc93-41d7-9dd4-e7d2b7772a92"
      },
      "execution_count": 4,
      "outputs": [
        {
          "output_type": "execute_result",
          "data": {
            "application/vnd.google.colaboratory.intrinsic+json": {
              "type": "string"
            },
            "text/plain": [
              "'Athletico Paranaense'"
            ]
          },
          "metadata": {},
          "execution_count": 4
        }
      ]
    },
    {
      "cell_type": "code",
      "source": [
        "tIME"
      ],
      "metadata": {
        "colab": {
          "base_uri": "https://localhost:8080/",
          "height": 35
        },
        "id": "N19T4NFBzHv_",
        "outputId": "33eb04c8-9b75-4bb6-ff03-7e39d8dfed84"
      },
      "execution_count": 5,
      "outputs": [
        {
          "output_type": "execute_result",
          "data": {
            "application/vnd.google.colaboratory.intrinsic+json": {
              "type": "string"
            },
            "text/plain": [
              "'Gama'"
            ]
          },
          "metadata": {},
          "execution_count": 5
        }
      ]
    },
    {
      "cell_type": "markdown",
      "source": [
        "**Boa prática de programação:** utilize sempre variáveis mnemônicas no seu código-fonte. Isso significa que o nome da variável corresponde à sua função e significado no código-fonte. Por exemplo:"
      ],
      "metadata": {
        "id": "m5T0bxCBxCCU"
      }
    },
    {
      "cell_type": "code",
      "source": [
        "salario = 56763.42\n",
        "idade = 14\n",
        "logradouro = \"Setor da Zueira Ilimitada, Quadra 04\""
      ],
      "metadata": {
        "id": "wGU0xr_0Jxks"
      },
      "execution_count": 6,
      "outputs": []
    },
    {
      "cell_type": "markdown",
      "source": [
        "Utilizar variáveis mnemônicas tem como pontos positivos:\n",
        "\n",
        "\n",
        "*   Deixa o código-fonte organizado;\n",
        "*   Facilita tarefas de depuração e testes no código-fonte;\n",
        "*   Permite que outro desenvolvedor leia e entenda seu código-fonte mais facilmente.\n",
        "\n",
        "\n",
        "Aqui vão alguns exemplos de nomes ruins para variáveis:"
      ],
      "metadata": {
        "id": "TW0tFrOzJTHb"
      }
    },
    {
      "cell_type": "code",
      "source": [
        "salario = \"Herculiano Walter Medina\"\n",
        "idade = \"Taguatinga\"\n",
        "qualquer = \"Setor da Zueira Ilimatada, Quadra 04\"\n",
        "tipocaracterizacaodedisciplina = 3   #nome de variável muito grande!"
      ],
      "metadata": {
        "id": "9oP8mVsqJIdz"
      },
      "execution_count": 7,
      "outputs": []
    },
    {
      "cell_type": "markdown",
      "source": [
        "Geralmente, os padrões de projeto comumente adotados em empresas de software definem estratégias para a criação de variáveis. Por exemplo, "
      ],
      "metadata": {
        "id": "9Ej_TA25KRhu"
      }
    },
    {
      "cell_type": "code",
      "source": [
        "time_futebol = \"Athletico Paranaense\"\n",
        "timeFutebol = \"Athletico Paranaense\""
      ],
      "metadata": {
        "id": "TwdHZ1RlKTyk"
      },
      "execution_count": 8,
      "outputs": []
    },
    {
      "cell_type": "markdown",
      "source": [
        "Especificamente, alguns nomes também não podem ser utilizados para variáveis. São as **palavras reservadas** da linguagem Python 3, que são palavras que representam comandos e objetos pré-definidos de sua sintaxe. Veja quando tentamos colocar a variável com o nome \"class\":"
      ],
      "metadata": {
        "id": "cNOziLLaLZFk"
      }
    },
    {
      "cell_type": "code",
      "source": [
        "class = \"English\""
      ],
      "metadata": {
        "colab": {
          "base_uri": "https://localhost:8080/",
          "height": 131
        },
        "id": "Lzfk3QOGLYBe",
        "outputId": "1549fa13-04e9-4601-c9cd-631a6a015edd"
      },
      "execution_count": 9,
      "outputs": [
        {
          "output_type": "error",
          "ename": "SyntaxError",
          "evalue": "ignored",
          "traceback": [
            "\u001b[0;36m  File \u001b[0;32m\"<ipython-input-9-194ba8f9d5e0>\"\u001b[0;36m, line \u001b[0;32m1\u001b[0m\n\u001b[0;31m    class = \"English\"\u001b[0m\n\u001b[0m          ^\u001b[0m\n\u001b[0;31mSyntaxError\u001b[0m\u001b[0;31m:\u001b[0m invalid syntax\n"
          ]
        }
      ]
    },
    {
      "cell_type": "markdown",
      "source": [
        "## 2.2. Expressões e Instruções\n",
        "\n",
        "Vamos agora alterar o valor das variáveis $a$ e $b$:"
      ],
      "metadata": {
        "id": "xQOB8A2dMOuN"
      }
    },
    {
      "cell_type": "code",
      "source": [
        "a = 3\n",
        "b = 4"
      ],
      "metadata": {
        "id": "JyjENRTNM8Ac"
      },
      "execution_count": 10,
      "outputs": []
    },
    {
      "cell_type": "markdown",
      "source": [
        "Dentre as operações aritméticas que podemos fazer com as variáveis e as constantes, podemos citar a soma:"
      ],
      "metadata": {
        "id": "5PySqOWXMUBN"
      }
    },
    {
      "cell_type": "code",
      "source": [
        "s = a+b\n",
        "s"
      ],
      "metadata": {
        "colab": {
          "base_uri": "https://localhost:8080/"
        },
        "id": "CP1YIIjqMSp_",
        "outputId": "fdf48c66-6212-4e33-a17b-b21826cf1557"
      },
      "execution_count": 11,
      "outputs": [
        {
          "output_type": "execute_result",
          "data": {
            "text/plain": [
              "7"
            ]
          },
          "metadata": {},
          "execution_count": 11
        }
      ]
    },
    {
      "cell_type": "markdown",
      "source": [
        "No exemplo acima, o resultado da soma das variáveis $a$ e $b$ é armazenado em uma variável $s$. Pode-se fazer também a soma de uma variável e uma constante:"
      ],
      "metadata": {
        "id": "jn_dmvCaMfRd"
      }
    },
    {
      "cell_type": "code",
      "source": [
        "s = a+6\n",
        "s"
      ],
      "metadata": {
        "colab": {
          "base_uri": "https://localhost:8080/"
        },
        "id": "L1Iet7fwMhDL",
        "outputId": "442cb664-fc2c-44a9-fbf5-ebe17aa8a594"
      },
      "execution_count": 12,
      "outputs": [
        {
          "output_type": "execute_result",
          "data": {
            "text/plain": [
              "9"
            ]
          },
          "metadata": {},
          "execution_count": 12
        }
      ]
    },
    {
      "cell_type": "markdown",
      "source": [
        "A seguir, fazemos a soma de duas variáveis, mas sem armazenar o resultado em uma outra variável. O que tem bom ou ruim nisso?\n",
        "\n",
        "*   Parte boa: você pode fazer essa soma e utilizar o valor apenas em um determinado momento do seu código-fonte\n",
        "*   Parte ruim: o valor de $a+b$ não é armazenado em nenhum lugar. Se, futuramente, precisarmos desse valor, teremos que refazer essa operação."
      ],
      "metadata": {
        "id": "BwB2qJ7FNG0p"
      }
    },
    {
      "cell_type": "code",
      "source": [
        "a+b"
      ],
      "metadata": {
        "colab": {
          "base_uri": "https://localhost:8080/"
        },
        "id": "FxYfwy9VMmUu",
        "outputId": "1674db65-e88a-4d1f-b66e-5c099ca363ad"
      },
      "execution_count": 13,
      "outputs": [
        {
          "output_type": "execute_result",
          "data": {
            "text/plain": [
              "7"
            ]
          },
          "metadata": {},
          "execution_count": 13
        }
      ]
    },
    {
      "cell_type": "markdown",
      "source": [
        "Já no comando abaixo, obtemos apenas o valor da soma de uma variável com uma constante:"
      ],
      "metadata": {
        "id": "L-JH04lBA-Ej"
      }
    },
    {
      "cell_type": "code",
      "source": [
        "a+2"
      ],
      "metadata": {
        "colab": {
          "base_uri": "https://localhost:8080/"
        },
        "id": "fuggT-rMMziB",
        "outputId": "d63f4a37-84e9-4014-bcd1-263c0f9001fd"
      },
      "execution_count": 14,
      "outputs": [
        {
          "output_type": "execute_result",
          "data": {
            "text/plain": [
              "5"
            ]
          },
          "metadata": {},
          "execution_count": 14
        }
      ]
    },
    {
      "cell_type": "markdown",
      "source": [
        "Repare que o valor de $s$ não é alterado, pois não houve nenhuma atribuição do valor resultante de qualquer outra operação aritmética (soma, subtração, multiplicação ou divisão) nas duas últimas células:"
      ],
      "metadata": {
        "id": "v6JxemY2BItS"
      }
    },
    {
      "cell_type": "code",
      "source": [
        "s"
      ],
      "metadata": {
        "colab": {
          "base_uri": "https://localhost:8080/"
        },
        "id": "BUFCxwJiM11g",
        "outputId": "8a329c5f-5ccd-4265-b4ca-fa1ba1d02d34"
      },
      "execution_count": 15,
      "outputs": [
        {
          "output_type": "execute_result",
          "data": {
            "text/plain": [
              "9"
            ]
          },
          "metadata": {},
          "execution_count": 15
        }
      ]
    },
    {
      "cell_type": "markdown",
      "source": [
        "Portanto, caso queiramos atualizar o valor de $s$, lembre-se de colocar a atribuição:"
      ],
      "metadata": {
        "id": "QTLEE2dOBWRa"
      }
    },
    {
      "cell_type": "code",
      "source": [
        "s=a+2\n",
        "s"
      ],
      "metadata": {
        "colab": {
          "base_uri": "https://localhost:8080/"
        },
        "id": "rXWJhOzON1WO",
        "outputId": "2068598f-2e23-410c-9c8b-3ae61bfc284f"
      },
      "execution_count": 16,
      "outputs": [
        {
          "output_type": "execute_result",
          "data": {
            "text/plain": [
              "5"
            ]
          },
          "metadata": {},
          "execution_count": 16
        }
      ]
    },
    {
      "cell_type": "markdown",
      "source": [
        "Podemos também acrescentar um determinado valor ao valor já existente em uma variável. Tal operação é conhecida como **incremento**. Por exemplo, se $s=5$, ao fazermos $s=s+3$, temos que:\n",
        "\n",
        "$s = s + 3 = 5 + 3 = 8$\n",
        "\n",
        "No código-fonte, pode-se escrever da seguinte maneira:"
      ],
      "metadata": {
        "id": "UCAhEwmsN8vw"
      }
    },
    {
      "cell_type": "code",
      "source": [
        "s = s + 3\n",
        "s"
      ],
      "metadata": {
        "colab": {
          "base_uri": "https://localhost:8080/"
        },
        "id": "Iw2prLyoN6ew",
        "outputId": "96245f26-1842-43bc-f904-89cbbc57f6e9"
      },
      "execution_count": 17,
      "outputs": [
        {
          "output_type": "execute_result",
          "data": {
            "text/plain": [
              "8"
            ]
          },
          "metadata": {},
          "execution_count": 17
        }
      ]
    },
    {
      "cell_type": "markdown",
      "source": [
        "Existe também o **decremento**, em que subtrai-se um determinado valor do valor de uma variável. Assim, se $s=8$, ao fazermos $s=s-2$, temos que:\n",
        "\n",
        "$s = s - 2 = 8 - 2 = 6$\n",
        "\n",
        "No código-fonte, pode-se escrever da seguinte maneira:"
      ],
      "metadata": {
        "id": "AxAxBdlTOLoz"
      }
    },
    {
      "cell_type": "code",
      "source": [
        "s=s-2\n",
        "\n",
        "s"
      ],
      "metadata": {
        "colab": {
          "base_uri": "https://localhost:8080/"
        },
        "id": "ZmqAbWn4OM6b",
        "outputId": "66477d40-2511-417b-e59d-9437601fe247"
      },
      "execution_count": 18,
      "outputs": [
        {
          "output_type": "execute_result",
          "data": {
            "text/plain": [
              "6"
            ]
          },
          "metadata": {},
          "execution_count": 18
        }
      ]
    },
    {
      "cell_type": "markdown",
      "source": [
        "Apresentamos a seguir uma notação alternativa (reduzida) para incrementar e decrementar variáveis. Nos exemplos a seguir, o incremento e o decremento ocorrem em 1 unidade:"
      ],
      "metadata": {
        "id": "y1BWHEF6RIXn"
      }
    },
    {
      "cell_type": "code",
      "source": [
        "# s = s + 1\n",
        "s += 1\n",
        "s"
      ],
      "metadata": {
        "colab": {
          "base_uri": "https://localhost:8080/"
        },
        "id": "_zNm3to6RJoL",
        "outputId": "7c20e98c-570d-4064-bc43-9ab92b21b95c"
      },
      "execution_count": 19,
      "outputs": [
        {
          "output_type": "execute_result",
          "data": {
            "text/plain": [
              "7"
            ]
          },
          "metadata": {},
          "execution_count": 19
        }
      ]
    },
    {
      "cell_type": "code",
      "source": [
        "# s = s - 1\n",
        "s -= 1\n",
        "s"
      ],
      "metadata": {
        "colab": {
          "base_uri": "https://localhost:8080/"
        },
        "id": "iNmlSoApRPKa",
        "outputId": "fd442a41-6cde-4073-86d3-77badae0324f"
      },
      "execution_count": 20,
      "outputs": [
        {
          "output_type": "execute_result",
          "data": {
            "text/plain": [
              "6"
            ]
          },
          "metadata": {},
          "execution_count": 20
        }
      ]
    },
    {
      "cell_type": "markdown",
      "source": [
        "Podemos fazer operações similares com multiplicação e divisão. No exemplo abaixo, utilizando a multiplicação, estamos dobrando o valor existente na variável $s$:\n",
        "\n",
        "$s = s \\times 2 = 6 \\times 2 = 12$"
      ],
      "metadata": {
        "id": "AbM-RnnpR4bg"
      }
    },
    {
      "cell_type": "code",
      "source": [
        "s = s*2\n",
        "s"
      ],
      "metadata": {
        "colab": {
          "base_uri": "https://localhost:8080/"
        },
        "id": "IW5_be_4RgEm",
        "outputId": "99f661d7-246e-4b0f-b05d-b00cd5dd53c4"
      },
      "execution_count": 21,
      "outputs": [
        {
          "output_type": "execute_result",
          "data": {
            "text/plain": [
              "12"
            ]
          },
          "metadata": {},
          "execution_count": 21
        }
      ]
    },
    {
      "cell_type": "markdown",
      "source": [
        "Já com o operador de divisão inteira, \"//\", podemos, por exemplo, reduzir em $\\frac{3}{4}$ o valor da variável $s$:"
      ],
      "metadata": {
        "id": "7MvVTbZpVoWx"
      }
    },
    {
      "cell_type": "code",
      "source": [
        "s = s//4\n",
        "s"
      ],
      "metadata": {
        "id": "jQZSi_9CRjkX",
        "colab": {
          "base_uri": "https://localhost:8080/"
        },
        "outputId": "6cd5d253-3272-44f5-a0ec-e6500a2a9d8a"
      },
      "execution_count": 24,
      "outputs": [
        {
          "output_type": "execute_result",
          "data": {
            "text/plain": [
              "3"
            ]
          },
          "metadata": {},
          "execution_count": 24
        }
      ]
    },
    {
      "cell_type": "markdown",
      "source": [
        "O mesmo vale para o operador resto \"%\":"
      ],
      "metadata": {
        "id": "0wEXbBHRR_u7"
      }
    },
    {
      "cell_type": "code",
      "source": [
        "s = s%3\n",
        "s"
      ],
      "metadata": {
        "id": "HXnh0MzmRngX",
        "colab": {
          "base_uri": "https://localhost:8080/"
        },
        "outputId": "04f28d13-3500-490a-ce0b-df1f2e80ac17"
      },
      "execution_count": 26,
      "outputs": [
        {
          "output_type": "execute_result",
          "data": {
            "text/plain": [
              "0"
            ]
          },
          "metadata": {},
          "execution_count": 26
        }
      ]
    },
    {
      "cell_type": "markdown",
      "source": [
        "Ixii... zeramos o s. Vamos colocar um valor nele por meio de incremento."
      ],
      "metadata": {
        "id": "ivKVlzDTSDqz"
      }
    },
    {
      "cell_type": "code",
      "source": [
        "s = s+7"
      ],
      "metadata": {
        "id": "YpPQEdYSRudJ"
      },
      "execution_count": null,
      "outputs": []
    },
    {
      "cell_type": "markdown",
      "source": [
        "Exponenciação\n",
        "\n",
        "Utiliza-se o operador (**). Não confundir com o operador (^), que é um operador Bitwise XOR.\n"
      ],
      "metadata": {
        "id": "eQBPa6h4RwpV"
      }
    },
    {
      "cell_type": "code",
      "source": [
        "e = s**2\n",
        "e"
      ],
      "metadata": {
        "id": "a87rC4ZKSsRA"
      },
      "execution_count": null,
      "outputs": []
    },
    {
      "cell_type": "markdown",
      "source": [
        ""
      ],
      "metadata": {
        "id": "ABBoiXLKVf5S"
      }
    },
    {
      "cell_type": "markdown",
      "source": [
        "r = e elevado a meio é a mesma coisa da raiz quadrada"
      ],
      "metadata": {
        "id": "piAbf2yVV2CR"
      }
    },
    {
      "cell_type": "code",
      "source": [
        "r = e**(1/2)\n",
        "r"
      ],
      "metadata": {
        "id": "ExV72Al-VaGY"
      },
      "execution_count": null,
      "outputs": []
    },
    {
      "cell_type": "markdown",
      "source": [
        "Função para converter de real para inteiro"
      ],
      "metadata": {
        "id": "1u6-AnPgWUa2"
      }
    },
    {
      "cell_type": "code",
      "source": [
        "r = int(r)\n",
        "r"
      ],
      "metadata": {
        "id": "vFTMJsv6WUir"
      },
      "execution_count": null,
      "outputs": []
    },
    {
      "cell_type": "code",
      "source": [
        "r = 5*3.0\n",
        "r"
      ],
      "metadata": {
        "id": "oOHvlZZ3WgYy"
      },
      "execution_count": null,
      "outputs": []
    },
    {
      "cell_type": "markdown",
      "source": [
        "Ordem de precedência dos operadores\n",
        "\n",
        "\n",
        "\n",
        "1.   Parênteses\n",
        "2.   Exponenciação\n",
        "3.   Multiplicação e Divisão (Resto)\n",
        "4.   Adição e Subtração\n",
        "\n",
        "Quando a ordem de precedência for a mesma entre os operadores de uma expressão, a expressão lida da esquerda para a direita"
      ],
      "metadata": {
        "id": "bsuQ-GuwWt8_"
      }
    },
    {
      "cell_type": "markdown",
      "source": [
        "2+3 * 7 = 2+(3*7) = 2+21 = 23"
      ],
      "metadata": {
        "id": "vKDUSmWDXM1T"
      }
    },
    {
      "cell_type": "code",
      "source": [
        "2+3*7"
      ],
      "metadata": {
        "id": "8N4LpavSW_DI"
      },
      "execution_count": null,
      "outputs": []
    },
    {
      "cell_type": "markdown",
      "source": [
        "(2+3) * 7 = 5 * 7 = 35"
      ],
      "metadata": {
        "id": "PyLozrrTXUVd"
      }
    },
    {
      "cell_type": "code",
      "source": [
        "(2+3)*7"
      ],
      "metadata": {
        "id": "OJr3PMiEXUdu"
      },
      "execution_count": null,
      "outputs": []
    },
    {
      "cell_type": "markdown",
      "source": [
        "Operador de divisão e multiplicação\n",
        "\n",
        "8//2 * 4 = (8//2) * 4 = 16"
      ],
      "metadata": {
        "id": "scEVV1_8XjYz"
      }
    },
    {
      "cell_type": "code",
      "source": [
        "8//2*4"
      ],
      "metadata": {
        "id": "Iugoi_CwXql7"
      },
      "execution_count": null,
      "outputs": []
    },
    {
      "cell_type": "markdown",
      "source": [
        "Se quisermos fazer a operação de multiplicação antes da divisão, devemos incluir os parênteses como mostra o exemplo abaixo\n",
        "\n",
        "8 // (2*4)  = 8 // 8 = 1"
      ],
      "metadata": {
        "id": "uGMllY-fYKmE"
      }
    },
    {
      "cell_type": "code",
      "source": [
        "8//(2*4)"
      ],
      "metadata": {
        "id": "6tmf-b65YKtf"
      },
      "execution_count": null,
      "outputs": []
    },
    {
      "cell_type": "markdown",
      "source": [
        "Exceção é feita para o operador de exponenciação, em que a regra é da direita para a esquerda:"
      ],
      "metadata": {
        "id": "JSrFgFZiY0Du"
      }
    },
    {
      "cell_type": "code",
      "source": [
        "2**3**2"
      ],
      "metadata": {
        "id": "rTowiLIwY6aV"
      },
      "execution_count": null,
      "outputs": []
    },
    {
      "cell_type": "markdown",
      "source": [
        "Mas eu queria era fazer dois elevado a 3, que é tudo elevado ao quadrado\n",
        "\n",
        "(2 ** 3 )** 2 = 8**2 = 64"
      ],
      "metadata": {
        "id": "R0up4JxbZP46"
      }
    },
    {
      "cell_type": "code",
      "source": [
        "(2**3)**2"
      ],
      "metadata": {
        "id": "NzjiuVm7ZP_h"
      },
      "execution_count": null,
      "outputs": []
    },
    {
      "cell_type": "markdown",
      "source": [
        "## 2.4. Strings "
      ],
      "metadata": {
        "id": "ZVycocrUbRVW"
      }
    },
    {
      "cell_type": "markdown",
      "source": [
        "Declarando uma variável string"
      ],
      "metadata": {
        "id": "XIHm_KVpbURp"
      }
    },
    {
      "cell_type": "code",
      "source": [
        "logradouro = \"Setor dos Devedores Infinitos, Quadra 13, Bloco C, casa 3\"\n",
        "logradouro_unb = \"Universidade de Brasília, campus Darcy Ribeiro\""
      ],
      "metadata": {
        "id": "OFnjrjDmbW9_"
      },
      "execution_count": null,
      "outputs": []
    },
    {
      "cell_type": "markdown",
      "source": [
        "Posso pedir também para o usuário fornecer a string de entrada:"
      ],
      "metadata": {
        "id": "wFD8dSRTbmBi"
      }
    },
    {
      "cell_type": "code",
      "source": [
        "logradouro = input(\"Digite seu logradouro: \")\n",
        "\n",
        "print(\"Você digitou: \",logradouro)"
      ],
      "metadata": {
        "id": "t8ODB4PEbo7X"
      },
      "execution_count": null,
      "outputs": []
    },
    {
      "cell_type": "markdown",
      "source": [
        "Como a função input realiza a leitura da entrada padrão (usuário, juiz automático - beecrowd, CodeRunner), podemos fazer a conversão de string para inteiro ou real"
      ],
      "metadata": {
        "id": "OWvz33rscNMn"
      }
    },
    {
      "cell_type": "code",
      "source": [
        "idade = int(input(\"Digite sua idade: \"))\n",
        "idade = idade+10\n",
        "\n",
        "print(idade)"
      ],
      "metadata": {
        "id": "Ab-ZjYklcYDm"
      },
      "execution_count": null,
      "outputs": []
    },
    {
      "cell_type": "markdown",
      "source": [
        "Agora para valores reais"
      ],
      "metadata": {
        "id": "neurJtCUc3E3"
      }
    },
    {
      "cell_type": "code",
      "source": [
        "peso = input(\"Digite seu peso: \")\n",
        "\n",
        "peso = float(peso) + 4.5\n",
        "\n",
        "peso"
      ],
      "metadata": {
        "id": "V_AXleGoc5YU"
      },
      "execution_count": null,
      "outputs": []
    }
  ]
}