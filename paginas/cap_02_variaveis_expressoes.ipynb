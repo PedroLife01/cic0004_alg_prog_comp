{
  "nbformat": 4,
  "nbformat_minor": 0,
  "metadata": {
    "colab": {
      "name": "cap_02_variaveis_expressoes.ipynb",
      "provenance": [],
      "authorship_tag": "ABX9TyNAA4qsn/mDjRIpCeYZiBTB",
      "include_colab_link": true
    },
    "kernelspec": {
      "name": "python3",
      "display_name": "Python 3"
    },
    "language_info": {
      "name": "python"
    }
  },
  "cells": [
    {
      "cell_type": "markdown",
      "metadata": {
        "id": "view-in-github",
        "colab_type": "text"
      },
      "source": [
        "<a href=\"https://colab.research.google.com/github/viniciusrpb/cic0004_alg_prog_comp/blob/main/paginas/cap_02_variaveis_expressoes.ipynb\" target=\"_parent\"><img src=\"https://colab.research.google.com/assets/colab-badge.svg\" alt=\"Open In Colab\"/></a>"
      ]
    },
    {
      "cell_type": "markdown",
      "source": [
        "# Capítulo 2: Variáveis, expressões e instruções\n",
        "\n",
        "Atenção: este notebook não contém um programa inteiro, mas sim trechos de código-fonte que devem ser executados sequencialmente para o funcionamento esperado (geração das saídas corretas).\n",
        "\n",
        "## 2.1. Variáveis\n",
        "\n",
        "Uma variável é um espaço na memória cujo nome abstrai seu endereço associado (na memória). A seguir, mostramos como criamos duas variáveis já com valores atribuídos à elas:"
      ],
      "metadata": {
        "id": "YLklhKGBPPz2"
      }
    },
    {
      "cell_type": "code",
      "source": [
        "a = 5\n",
        "b = 2"
      ],
      "metadata": {
        "id": "_IUYzsgBPA12"
      },
      "execution_count": 111,
      "outputs": []
    },
    {
      "cell_type": "markdown",
      "source": [
        "Lembre-se que para criar uma variável em Python, sempre devemos atribuir um valor à ela, seja a partir:\n",
        "\n",
        "1.   de uma constante (valor inicial)\n",
        "2.   da entrada padrão (usuário digita tal valor, ou é fornecido pelo juíz automático - beecrowd, CodeRunner -)\n",
        "3.   de operações que utilizem outras variáveis e constantes.\n",
        "\n",
        "Estudaremos essas opções no decorrer da aula.\n",
        "\n",
        "Lembre-se que não é permitido nomear variáveis com símbolos especiais (exceto underline \"_\"). Também não é permitido que os primeiros caracteres do nome da variável contenham números. Apresentamos a seguir exemplos de nomes incorretos de variáveis:\n"
      ],
      "metadata": {
        "id": "zJfZ-oSgvmWM"
      }
    },
    {
      "cell_type": "code",
      "source": [
        "# variável cujo nome começa com número\n",
        "10cc = 5\n",
        "10cc"
      ],
      "metadata": {
        "colab": {
          "base_uri": "https://localhost:8080/",
          "height": 134
        },
        "id": "n2FdmFD5I8zQ",
        "outputId": "0dbe12e7-f2ce-4022-ff50-933a1dbd63b5"
      },
      "execution_count": 112,
      "outputs": [
        {
          "output_type": "error",
          "ename": "SyntaxError",
          "evalue": "ignored",
          "traceback": [
            "\u001b[0;36m  File \u001b[0;32m\"<ipython-input-112-89c5e9031453>\"\u001b[0;36m, line \u001b[0;32m2\u001b[0m\n\u001b[0;31m    10cc = 5\u001b[0m\n\u001b[0m       ^\u001b[0m\n\u001b[0;31mSyntaxError\u001b[0m\u001b[0;31m:\u001b[0m invalid syntax\n"
          ]
        }
      ]
    },
    {
      "cell_type": "code",
      "source": [
        "# caractere especial no meio da variável\n",
        "em@il = \"cic@unb.br\""
      ],
      "metadata": {
        "colab": {
          "base_uri": "https://localhost:8080/",
          "height": 134
        },
        "id": "yklM3YKuwvFD",
        "outputId": "ab3ebf20-3fa0-40d7-cc1b-7137b8b31209"
      },
      "execution_count": 113,
      "outputs": [
        {
          "output_type": "error",
          "ename": "SyntaxError",
          "evalue": "ignored",
          "traceback": [
            "\u001b[0;36m  File \u001b[0;32m\"<ipython-input-113-98ddd68bf2b6>\"\u001b[0;36m, line \u001b[0;32m2\u001b[0m\n\u001b[0;31m    em@il = \"cic@unb.br\"\u001b[0m\n\u001b[0m                        ^\u001b[0m\n\u001b[0;31mSyntaxError\u001b[0m\u001b[0;31m:\u001b[0m can't assign to operator\n"
          ]
        }
      ]
    },
    {
      "cell_type": "markdown",
      "source": [
        "Lembre-se que existe diferenciação de letras minúsculas e maiúsculas em nomes de variáveis (*case-sensitive*). Por exemplo, as variáveis abaixo *time* e *TIME* são distintas (**evite essa estratégia para nomear variáveis**):"
      ],
      "metadata": {
        "id": "Usq_FFKLy7H7"
      }
    },
    {
      "cell_type": "code",
      "source": [
        "time = \"Athletico Paranaense\"\n",
        "TIME = \"Gama\"\n",
        "\n",
        "time"
      ],
      "metadata": {
        "colab": {
          "base_uri": "https://localhost:8080/",
          "height": 35
        },
        "id": "l3NYvhZmy44B",
        "outputId": "a25451c2-c659-44cd-fe5a-34b0816795df"
      },
      "execution_count": 114,
      "outputs": [
        {
          "output_type": "execute_result",
          "data": {
            "application/vnd.google.colaboratory.intrinsic+json": {
              "type": "string"
            },
            "text/plain": [
              "'Athletico Paranaense'"
            ]
          },
          "metadata": {},
          "execution_count": 114
        }
      ]
    },
    {
      "cell_type": "code",
      "source": [
        "TIME"
      ],
      "metadata": {
        "colab": {
          "base_uri": "https://localhost:8080/",
          "height": 35
        },
        "id": "N19T4NFBzHv_",
        "outputId": "d18fa71f-c52f-4398-e821-150151fa3b48"
      },
      "execution_count": 115,
      "outputs": [
        {
          "output_type": "execute_result",
          "data": {
            "application/vnd.google.colaboratory.intrinsic+json": {
              "type": "string"
            },
            "text/plain": [
              "'Gama'"
            ]
          },
          "metadata": {},
          "execution_count": 115
        }
      ]
    },
    {
      "cell_type": "markdown",
      "source": [
        "**Boa prática de programação:** utilize sempre variáveis mnemônicas no seu código-fonte. Isso significa que o nome da variável corresponde à sua função e significado no código-fonte. Por exemplo:"
      ],
      "metadata": {
        "id": "m5T0bxCBxCCU"
      }
    },
    {
      "cell_type": "code",
      "source": [
        "salario = 56763.42\n",
        "idade = 14\n",
        "logradouro = \"Setor da Zueira Ilimatada, Quadra 04\""
      ],
      "metadata": {
        "id": "wGU0xr_0Jxks"
      },
      "execution_count": 116,
      "outputs": []
    },
    {
      "cell_type": "markdown",
      "source": [
        "Utilizar variáveis mnemônicas tem como pontos positivos:\n",
        "\n",
        "\n",
        "*   Deixa o código-fonte organizado;\n",
        "*   Facilita tarefas de depuração e testes no código-fonte;\n",
        "*   Permite que outro desenvolvedor leia e entenda seu código-fonte mais facilmente.\n",
        "\n",
        "\n",
        "Aqui vão alguns exemplos de nomes ruins para variáveis:"
      ],
      "metadata": {
        "id": "TW0tFrOzJTHb"
      }
    },
    {
      "cell_type": "code",
      "source": [
        "salario = \"Herculiano Walter Medina\"\n",
        "idade = \"Taguatinga\"\n",
        "qualquer = \"Setor da Zueira Ilimatada, Quadra 04\"\n",
        "tipocaracterizacaodedisciplina = 3   #nome de variável muito grande!"
      ],
      "metadata": {
        "id": "9oP8mVsqJIdz"
      },
      "execution_count": 117,
      "outputs": []
    },
    {
      "cell_type": "markdown",
      "source": [
        "Geralmente, os padrões de projeto comumente adotados em empresas de software definem estratégias para a criação de variáveis. Por exemplo, "
      ],
      "metadata": {
        "id": "9Ej_TA25KRhu"
      }
    },
    {
      "cell_type": "code",
      "source": [
        "time_futebol = \"Athletico Paranaense\"\n",
        "timeFutebol = \"Athletico Paranaense\""
      ],
      "metadata": {
        "id": "TwdHZ1RlKTyk"
      },
      "execution_count": 47,
      "outputs": []
    },
    {
      "cell_type": "markdown",
      "source": [
        "Palavras reservadas"
      ],
      "metadata": {
        "id": "cNOziLLaLZFk"
      }
    },
    {
      "cell_type": "code",
      "source": [
        "class = \"English\""
      ],
      "metadata": {
        "colab": {
          "base_uri": "https://localhost:8080/",
          "height": 134
        },
        "id": "Lzfk3QOGLYBe",
        "outputId": "d9eff8d5-f65e-41aa-c2a5-25f01f61f5ec"
      },
      "execution_count": 48,
      "outputs": [
        {
          "output_type": "error",
          "ename": "SyntaxError",
          "evalue": "ignored",
          "traceback": [
            "\u001b[0;36m  File \u001b[0;32m\"<ipython-input-48-194ba8f9d5e0>\"\u001b[0;36m, line \u001b[0;32m1\u001b[0m\n\u001b[0;31m    class = \"English\"\u001b[0m\n\u001b[0m          ^\u001b[0m\n\u001b[0;31mSyntaxError\u001b[0m\u001b[0;31m:\u001b[0m invalid syntax\n"
          ]
        }
      ]
    },
    {
      "cell_type": "code",
      "source": [
        "(lambda x: x + 1)(2)"
      ],
      "metadata": {
        "colab": {
          "base_uri": "https://localhost:8080/"
        },
        "id": "YjobKLBqL6BP",
        "outputId": "53dd82e3-696a-4a9a-b622-9f7575ed9d3d"
      },
      "execution_count": 49,
      "outputs": [
        {
          "output_type": "execute_result",
          "data": {
            "text/plain": [
              "3"
            ]
          },
          "metadata": {},
          "execution_count": 49
        }
      ]
    },
    {
      "cell_type": "markdown",
      "source": [
        "## Parte 2: Expressões e Instruções"
      ],
      "metadata": {
        "id": "xQOB8A2dMOuN"
      }
    },
    {
      "cell_type": "code",
      "source": [
        "a = 3\n",
        "b = 4"
      ],
      "metadata": {
        "id": "JyjENRTNM8Ac"
      },
      "execution_count": 50,
      "outputs": []
    },
    {
      "cell_type": "markdown",
      "source": [
        "Variáveis e as constantes. Soma de variáveis"
      ],
      "metadata": {
        "id": "5PySqOWXMUBN"
      }
    },
    {
      "cell_type": "code",
      "source": [
        "s = a+b\n",
        "s"
      ],
      "metadata": {
        "colab": {
          "base_uri": "https://localhost:8080/"
        },
        "id": "CP1YIIjqMSp_",
        "outputId": "51c6a96c-65e9-483b-fdc8-b8b711daf79c"
      },
      "execution_count": 51,
      "outputs": [
        {
          "output_type": "execute_result",
          "data": {
            "text/plain": [
              "7"
            ]
          },
          "metadata": {},
          "execution_count": 51
        }
      ]
    },
    {
      "cell_type": "markdown",
      "source": [
        "Soma de uma variável e uma constante"
      ],
      "metadata": {
        "id": "jn_dmvCaMfRd"
      }
    },
    {
      "cell_type": "code",
      "source": [
        "s = a+6\n",
        "s"
      ],
      "metadata": {
        "colab": {
          "base_uri": "https://localhost:8080/"
        },
        "id": "L1Iet7fwMhDL",
        "outputId": "b1f1d943-5ace-4953-b32e-b3a6e55702a0"
      },
      "execution_count": 52,
      "outputs": [
        {
          "output_type": "execute_result",
          "data": {
            "text/plain": [
              "9"
            ]
          },
          "metadata": {},
          "execution_count": 52
        }
      ]
    },
    {
      "cell_type": "markdown",
      "source": [
        "Fazemos a soma de duas variáveis, mas sem armazenar o resultado em uma outra variável. O que tem bom ou ruim? Parte boa: você pode fazer essa soma para um momento instantâneo"
      ],
      "metadata": {
        "id": "BwB2qJ7FNG0p"
      }
    },
    {
      "cell_type": "code",
      "source": [
        "a+b"
      ],
      "metadata": {
        "colab": {
          "base_uri": "https://localhost:8080/"
        },
        "id": "FxYfwy9VMmUu",
        "outputId": "259bf391-43b3-42a5-8702-e2db79fada1e"
      },
      "execution_count": 53,
      "outputs": [
        {
          "output_type": "execute_result",
          "data": {
            "text/plain": [
              "7"
            ]
          },
          "metadata": {},
          "execution_count": 53
        }
      ]
    },
    {
      "cell_type": "markdown",
      "source": [
        "Veja que o valor de s não foi salvo conforme a última soma."
      ],
      "metadata": {
        "id": "NE6QBTyqNXzv"
      }
    },
    {
      "cell_type": "code",
      "source": [
        "s"
      ],
      "metadata": {
        "colab": {
          "base_uri": "https://localhost:8080/"
        },
        "id": "Mmq5P4kWNC9p",
        "outputId": "fddbff6a-694e-4995-9614-23c734a1e42e"
      },
      "execution_count": 54,
      "outputs": [
        {
          "output_type": "execute_result",
          "data": {
            "text/plain": [
              "9"
            ]
          },
          "metadata": {},
          "execution_count": 54
        }
      ]
    },
    {
      "cell_type": "code",
      "source": [
        "a+2"
      ],
      "metadata": {
        "colab": {
          "base_uri": "https://localhost:8080/"
        },
        "id": "fuggT-rMMziB",
        "outputId": "88704e47-88d4-4814-d0fc-946a0d2f0544"
      },
      "execution_count": 55,
      "outputs": [
        {
          "output_type": "execute_result",
          "data": {
            "text/plain": [
              "5"
            ]
          },
          "metadata": {},
          "execution_count": 55
        }
      ]
    },
    {
      "cell_type": "code",
      "source": [
        "s"
      ],
      "metadata": {
        "colab": {
          "base_uri": "https://localhost:8080/"
        },
        "id": "BUFCxwJiM11g",
        "outputId": "05eb30ee-6b15-4069-f752-37227e19dbfd"
      },
      "execution_count": 56,
      "outputs": [
        {
          "output_type": "execute_result",
          "data": {
            "text/plain": [
              "9"
            ]
          },
          "metadata": {},
          "execution_count": 56
        }
      ]
    },
    {
      "cell_type": "code",
      "source": [
        "s=a+2\n",
        "s"
      ],
      "metadata": {
        "colab": {
          "base_uri": "https://localhost:8080/"
        },
        "id": "rXWJhOzON1WO",
        "outputId": "852fc723-33c0-4961-ee96-d32e74e71bf6"
      },
      "execution_count": 57,
      "outputs": [
        {
          "output_type": "execute_result",
          "data": {
            "text/plain": [
              "5"
            ]
          },
          "metadata": {},
          "execution_count": 57
        }
      ]
    },
    {
      "cell_type": "markdown",
      "source": [
        "Incrementando variáveis.\n",
        "\n",
        "s = s + 3 = 5 + 3 = 8"
      ],
      "metadata": {
        "id": "UCAhEwmsN8vw"
      }
    },
    {
      "cell_type": "code",
      "source": [
        "s = s + 3\n",
        "s"
      ],
      "metadata": {
        "colab": {
          "base_uri": "https://localhost:8080/"
        },
        "id": "Iw2prLyoN6ew",
        "outputId": "635c5b07-e55c-4ea3-e4dc-eed600cef7a6"
      },
      "execution_count": 58,
      "outputs": [
        {
          "output_type": "execute_result",
          "data": {
            "text/plain": [
              "8"
            ]
          },
          "metadata": {},
          "execution_count": 58
        }
      ]
    },
    {
      "cell_type": "markdown",
      "source": [
        "Podemos decrementar também..."
      ],
      "metadata": {
        "id": "AxAxBdlTOLoz"
      }
    },
    {
      "cell_type": "code",
      "source": [
        "s=s-3\n",
        "\n",
        "s"
      ],
      "metadata": {
        "colab": {
          "base_uri": "https://localhost:8080/"
        },
        "id": "ZmqAbWn4OM6b",
        "outputId": "9f1a94a9-8ff8-4f9d-aed5-0a51c4699c95"
      },
      "execution_count": 59,
      "outputs": [
        {
          "output_type": "execute_result",
          "data": {
            "text/plain": [
              "5"
            ]
          },
          "metadata": {},
          "execution_count": 59
        }
      ]
    },
    {
      "cell_type": "markdown",
      "source": [
        "Notação alternativa para incrementar e decrementar variáveis"
      ],
      "metadata": {
        "id": "y1BWHEF6RIXn"
      }
    },
    {
      "cell_type": "code",
      "source": [
        "# s = s + 1\n",
        "s += 1\n",
        "s"
      ],
      "metadata": {
        "colab": {
          "base_uri": "https://localhost:8080/"
        },
        "id": "_zNm3to6RJoL",
        "outputId": "20d99dfe-d416-4ebd-dff4-aa4b935d0d99"
      },
      "execution_count": 60,
      "outputs": [
        {
          "output_type": "execute_result",
          "data": {
            "text/plain": [
              "6"
            ]
          },
          "metadata": {},
          "execution_count": 60
        }
      ]
    },
    {
      "cell_type": "code",
      "source": [
        "# s = s - 1\n",
        "s -= 1\n",
        "s"
      ],
      "metadata": {
        "colab": {
          "base_uri": "https://localhost:8080/"
        },
        "id": "iNmlSoApRPKa",
        "outputId": "75da5d50-11b3-48b6-a9bf-7e374d88d3b6"
      },
      "execution_count": 61,
      "outputs": [
        {
          "output_type": "execute_result",
          "data": {
            "text/plain": [
              "5"
            ]
          },
          "metadata": {},
          "execution_count": 61
        }
      ]
    },
    {
      "cell_type": "markdown",
      "source": [
        "Podemos fazer operações similares com multiplicação e divisão"
      ],
      "metadata": {
        "id": "AbM-RnnpR4bg"
      }
    },
    {
      "cell_type": "code",
      "source": [
        "s = s*2\n",
        "s"
      ],
      "metadata": {
        "colab": {
          "base_uri": "https://localhost:8080/"
        },
        "id": "IW5_be_4RgEm",
        "outputId": "8fafae18-a34c-48fd-cde3-cad773a9d1c8"
      },
      "execution_count": 62,
      "outputs": [
        {
          "output_type": "execute_result",
          "data": {
            "text/plain": [
              "10"
            ]
          },
          "metadata": {},
          "execution_count": 62
        }
      ]
    },
    {
      "cell_type": "markdown",
      "source": [
        "O operador // realiza a divisão inteira"
      ],
      "metadata": {
        "id": "7MvVTbZpVoWx"
      }
    },
    {
      "cell_type": "code",
      "source": [
        "s = s//2\n",
        "s"
      ],
      "metadata": {
        "id": "jQZSi_9CRjkX"
      },
      "execution_count": 63,
      "outputs": []
    },
    {
      "cell_type": "markdown",
      "source": [
        "Operador resto"
      ],
      "metadata": {
        "id": "0wEXbBHRR_u7"
      }
    },
    {
      "cell_type": "code",
      "source": [
        "s = s%5"
      ],
      "metadata": {
        "id": "HXnh0MzmRngX"
      },
      "execution_count": 65,
      "outputs": []
    },
    {
      "cell_type": "code",
      "source": [
        "s"
      ],
      "metadata": {
        "colab": {
          "base_uri": "https://localhost:8080/"
        },
        "id": "bx8kSFXwRrOq",
        "outputId": "2ac41fc3-7934-46f4-d455-17a19a8e4bbd"
      },
      "execution_count": 66,
      "outputs": [
        {
          "output_type": "execute_result",
          "data": {
            "text/plain": [
              "0"
            ]
          },
          "metadata": {},
          "execution_count": 66
        }
      ]
    },
    {
      "cell_type": "markdown",
      "source": [
        "Ixii... zeramos o s. Vamos colocar um valor nele por meio de incremento."
      ],
      "metadata": {
        "id": "ivKVlzDTSDqz"
      }
    },
    {
      "cell_type": "code",
      "source": [
        "s = s+7\n"
      ],
      "metadata": {
        "id": "YpPQEdYSRudJ"
      },
      "execution_count": 67,
      "outputs": []
    },
    {
      "cell_type": "markdown",
      "source": [
        "Exponenciação\n",
        "\n",
        "Utiliza-se o operador (**). Não confundir com o operador (^), que é um operador Bitwise XOR.\n"
      ],
      "metadata": {
        "id": "eQBPa6h4RwpV"
      }
    },
    {
      "cell_type": "code",
      "source": [
        "e = s**2\n",
        "e"
      ],
      "metadata": {
        "colab": {
          "base_uri": "https://localhost:8080/"
        },
        "id": "a87rC4ZKSsRA",
        "outputId": "aacf2e5f-e1fa-4e3b-bfd9-1d254a16bc28"
      },
      "execution_count": 71,
      "outputs": [
        {
          "output_type": "execute_result",
          "data": {
            "text/plain": [
              "49"
            ]
          },
          "metadata": {},
          "execution_count": 71
        }
      ]
    },
    {
      "cell_type": "markdown",
      "source": [
        ""
      ],
      "metadata": {
        "id": "ABBoiXLKVf5S"
      }
    },
    {
      "cell_type": "markdown",
      "source": [
        "r = e elevado a meio é a mesma coisa da raiz quadrada"
      ],
      "metadata": {
        "id": "piAbf2yVV2CR"
      }
    },
    {
      "cell_type": "code",
      "source": [
        "r = e**(1/2)\n",
        "r"
      ],
      "metadata": {
        "colab": {
          "base_uri": "https://localhost:8080/"
        },
        "id": "ExV72Al-VaGY",
        "outputId": "ad1783ca-de44-44d2-da00-dd70642838f5"
      },
      "execution_count": 75,
      "outputs": [
        {
          "output_type": "execute_result",
          "data": {
            "text/plain": [
              "7.0"
            ]
          },
          "metadata": {},
          "execution_count": 75
        }
      ]
    },
    {
      "cell_type": "markdown",
      "source": [
        "Função para converter de real para inteiro"
      ],
      "metadata": {
        "id": "1u6-AnPgWUa2"
      }
    },
    {
      "cell_type": "code",
      "source": [
        "r = int(r)\n",
        "r"
      ],
      "metadata": {
        "colab": {
          "base_uri": "https://localhost:8080/"
        },
        "id": "vFTMJsv6WUir",
        "outputId": "f3a9176b-5eb8-447d-8488-4ce96d9162a9"
      },
      "execution_count": 76,
      "outputs": [
        {
          "output_type": "execute_result",
          "data": {
            "text/plain": [
              "7"
            ]
          },
          "metadata": {},
          "execution_count": 76
        }
      ]
    },
    {
      "cell_type": "code",
      "source": [
        "r = 5*3.0\n",
        "r"
      ],
      "metadata": {
        "colab": {
          "base_uri": "https://localhost:8080/"
        },
        "id": "oOHvlZZ3WgYy",
        "outputId": "dd760ecd-d915-4729-b205-c7ec08571f5e"
      },
      "execution_count": 77,
      "outputs": [
        {
          "output_type": "execute_result",
          "data": {
            "text/plain": [
              "15.0"
            ]
          },
          "metadata": {},
          "execution_count": 77
        }
      ]
    },
    {
      "cell_type": "markdown",
      "source": [
        "Ordem de precedência dos operadores\n",
        "\n",
        "\n",
        "\n",
        "1.   Parênteses\n",
        "2.   Exponenciação\n",
        "3.   Multiplicação e Divisão (Resto)\n",
        "4.   Adição e Subtração\n",
        "\n",
        "Quando a ordem de precedência for a mesma entre os operadores de uma expressão, a expressão lida da esquerda para a direita"
      ],
      "metadata": {
        "id": "bsuQ-GuwWt8_"
      }
    },
    {
      "cell_type": "markdown",
      "source": [
        "2+3 * 7 = 2+(3*7) = 2+21 = 23"
      ],
      "metadata": {
        "id": "vKDUSmWDXM1T"
      }
    },
    {
      "cell_type": "code",
      "source": [
        "2+3*7"
      ],
      "metadata": {
        "colab": {
          "base_uri": "https://localhost:8080/"
        },
        "id": "8N4LpavSW_DI",
        "outputId": "f5bece6d-b27f-4282-e760-013ceacbe287"
      },
      "execution_count": 78,
      "outputs": [
        {
          "output_type": "execute_result",
          "data": {
            "text/plain": [
              "23"
            ]
          },
          "metadata": {},
          "execution_count": 78
        }
      ]
    },
    {
      "cell_type": "markdown",
      "source": [
        "(2+3) * 7 = 5 * 7 = 35"
      ],
      "metadata": {
        "id": "PyLozrrTXUVd"
      }
    },
    {
      "cell_type": "code",
      "source": [
        "(2+3)*7"
      ],
      "metadata": {
        "colab": {
          "base_uri": "https://localhost:8080/"
        },
        "id": "OJr3PMiEXUdu",
        "outputId": "d3d9498b-ce9d-4315-c56b-e5f6964c1f9c"
      },
      "execution_count": 79,
      "outputs": [
        {
          "output_type": "execute_result",
          "data": {
            "text/plain": [
              "35"
            ]
          },
          "metadata": {},
          "execution_count": 79
        }
      ]
    },
    {
      "cell_type": "markdown",
      "source": [
        "Operador de divisão e multiplicação\n",
        "\n",
        "8//2 * 4 = (8//2) * 4 = 16"
      ],
      "metadata": {
        "id": "scEVV1_8XjYz"
      }
    },
    {
      "cell_type": "code",
      "source": [
        "8//2*4"
      ],
      "metadata": {
        "colab": {
          "base_uri": "https://localhost:8080/"
        },
        "id": "Iugoi_CwXql7",
        "outputId": "fe233519-ba2b-475a-b5c4-4056eadd6097"
      },
      "execution_count": 80,
      "outputs": [
        {
          "output_type": "execute_result",
          "data": {
            "text/plain": [
              "16"
            ]
          },
          "metadata": {},
          "execution_count": 80
        }
      ]
    },
    {
      "cell_type": "markdown",
      "source": [
        "Se quisermos fazer a operação de multiplicação antes da divisão, devemos incluir os parênteses como mostra o exemplo abaixo\n",
        "\n",
        "8 // (2*4)  = 8 // 8 = 1"
      ],
      "metadata": {
        "id": "uGMllY-fYKmE"
      }
    },
    {
      "cell_type": "code",
      "source": [
        "8//(2*4)"
      ],
      "metadata": {
        "colab": {
          "base_uri": "https://localhost:8080/"
        },
        "id": "6tmf-b65YKtf",
        "outputId": "0b9ae08b-92d7-4148-9805-925848ce0bc0"
      },
      "execution_count": 81,
      "outputs": [
        {
          "output_type": "execute_result",
          "data": {
            "text/plain": [
              "1"
            ]
          },
          "metadata": {},
          "execution_count": 81
        }
      ]
    },
    {
      "cell_type": "markdown",
      "source": [
        "Exceção é feita para o operador de exponenciação, em que a regra é da direita para a esquerda:"
      ],
      "metadata": {
        "id": "JSrFgFZiY0Du"
      }
    },
    {
      "cell_type": "code",
      "source": [
        "2**3**2"
      ],
      "metadata": {
        "colab": {
          "base_uri": "https://localhost:8080/"
        },
        "id": "rTowiLIwY6aV",
        "outputId": "f34c5ad4-a8c4-4401-8a77-041b62c8becd"
      },
      "execution_count": 82,
      "outputs": [
        {
          "output_type": "execute_result",
          "data": {
            "text/plain": [
              "512"
            ]
          },
          "metadata": {},
          "execution_count": 82
        }
      ]
    },
    {
      "cell_type": "markdown",
      "source": [
        "Mas eu queria era fazer dois elevado a 3, que é tudo elevado ao quadrado\n",
        "\n",
        "(2 ** 3 )** 2 = 8**2 = 64"
      ],
      "metadata": {
        "id": "R0up4JxbZP46"
      }
    },
    {
      "cell_type": "code",
      "source": [
        "(2**3)**2"
      ],
      "metadata": {
        "colab": {
          "base_uri": "https://localhost:8080/"
        },
        "id": "NzjiuVm7ZP_h",
        "outputId": "f044b3e8-72aa-4977-a966-5add1aa0d91a"
      },
      "execution_count": 83,
      "outputs": [
        {
          "output_type": "execute_result",
          "data": {
            "text/plain": [
              "64"
            ]
          },
          "metadata": {},
          "execution_count": 83
        }
      ]
    },
    {
      "cell_type": "markdown",
      "source": [
        "## 2.4. Strings "
      ],
      "metadata": {
        "id": "ZVycocrUbRVW"
      }
    },
    {
      "cell_type": "markdown",
      "source": [
        "Declarando uma variável string"
      ],
      "metadata": {
        "id": "XIHm_KVpbURp"
      }
    },
    {
      "cell_type": "code",
      "source": [
        "logradouro = \"Setor dos Devedores Infinitos, Quadra 13, Bloco C, casa 3\"\n",
        "logradouro_unb = \"Universidade de Brasília, campus Darcy Ribeiro\""
      ],
      "metadata": {
        "id": "OFnjrjDmbW9_"
      },
      "execution_count": 94,
      "outputs": []
    },
    {
      "cell_type": "markdown",
      "source": [
        "Posso pedir também para o usuário fornecer a string de entrada:"
      ],
      "metadata": {
        "id": "wFD8dSRTbmBi"
      }
    },
    {
      "cell_type": "code",
      "source": [
        "logradouro = input(\"Digite seu logradouro: \")\n",
        "\n",
        "print(\"Você digitou: \",logradouro)"
      ],
      "metadata": {
        "colab": {
          "base_uri": "https://localhost:8080/"
        },
        "id": "t8ODB4PEbo7X",
        "outputId": "8f290716-4407-420b-8500-4bdd3b067542"
      },
      "execution_count": 95,
      "outputs": [
        {
          "output_type": "stream",
          "name": "stdout",
          "text": [
            "Digite seu logradouro: Lago Paranoa\n",
            "Você digitou:  Lago Paranoa\n"
          ]
        }
      ]
    },
    {
      "cell_type": "markdown",
      "source": [
        "Como a função input realiza a leitura da entrada padrão (usuário, juiz automático - beecrowd, CodeRunner), podemos fazer a conversão de string para inteiro ou real"
      ],
      "metadata": {
        "id": "OWvz33rscNMn"
      }
    },
    {
      "cell_type": "code",
      "source": [
        "idade = int(input(\"Digite sua idade: \"))\n",
        "idade = idade+10\n",
        "\n",
        "print(idade)"
      ],
      "metadata": {
        "colab": {
          "base_uri": "https://localhost:8080/"
        },
        "id": "Ab-ZjYklcYDm",
        "outputId": "0756e734-3c47-46e4-bdbb-a5ad2a2b0ec4"
      },
      "execution_count": 102,
      "outputs": [
        {
          "output_type": "stream",
          "name": "stdout",
          "text": [
            "Digite sua idade: 32\n",
            "42\n"
          ]
        }
      ]
    },
    {
      "cell_type": "markdown",
      "source": [
        "Agora para valores reais"
      ],
      "metadata": {
        "id": "neurJtCUc3E3"
      }
    },
    {
      "cell_type": "code",
      "source": [
        "peso = input(\"Digite seu peso: \")\n",
        "\n",
        "peso = float(peso) + 4.5\n",
        "\n",
        "peso"
      ],
      "metadata": {
        "colab": {
          "base_uri": "https://localhost:8080/"
        },
        "id": "V_AXleGoc5YU",
        "outputId": "29c17126-d411-4787-b8bc-43f708ae5700"
      },
      "execution_count": 106,
      "outputs": [
        {
          "name": "stdout",
          "output_type": "stream",
          "text": [
            "Digite seu peso: 3.75\n"
          ]
        },
        {
          "output_type": "execute_result",
          "data": {
            "text/plain": [
              "8.25"
            ]
          },
          "metadata": {},
          "execution_count": 106
        }
      ]
    }
  ]
}