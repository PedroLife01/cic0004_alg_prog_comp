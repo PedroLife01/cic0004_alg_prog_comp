{
  "nbformat": 4,
  "nbformat_minor": 0,
  "metadata": {
    "colab": {
      "name": "extra_03_input_print.ipynb",
      "provenance": [],
      "authorship_tag": "ABX9TyOFFwu0YFuHDW1TcgjaXMxD",
      "include_colab_link": true
    },
    "kernelspec": {
      "name": "python3",
      "display_name": "Python 3"
    },
    "language_info": {
      "name": "python"
    }
  },
  "cells": [
    {
      "cell_type": "markdown",
      "metadata": {
        "id": "view-in-github",
        "colab_type": "text"
      },
      "source": [
        "<a href=\"https://colab.research.google.com/github/viniciusrpb/cic0004_alg_prog_comp/blob/main/paginas/extra_03_input_print.ipynb\" target=\"_parent\"><img src=\"https://colab.research.google.com/assets/colab-badge.svg\" alt=\"Open In Colab\"/></a>"
      ]
    },
    {
      "cell_type": "markdown",
      "source": [
        "# Extra 03: Funções input() e print()\n",
        "\n",
        "Apresentamos a seguir diversos exemplos de leitura de dados da entrada padrão utilizando a função $input()$, como também impressão de dados na saída padrão utilizando a função $print()$.\n",
        "\n",
        "A principal fonte para escrita desse notebook Python foram os sites:\n",
        "\n",
        "\n",
        "*   https://pyformat.info/ (acessado em 07 de fevereiro de 2022).\n",
        "*   https://docs.python.org/pt-br/3/tutorial/inputoutput.html (acessado em 07 de fevereiro de 2022).\n",
        "\n",
        "\n"
      ],
      "metadata": {
        "id": "toTaqJ0Fdwi5"
      }
    },
    {
      "cell_type": "code",
      "execution_count": null,
      "metadata": {
        "id": "9aOWCfDnVmZ3"
      },
      "outputs": [],
      "source": [
        ""
      ]
    }
  ]
}